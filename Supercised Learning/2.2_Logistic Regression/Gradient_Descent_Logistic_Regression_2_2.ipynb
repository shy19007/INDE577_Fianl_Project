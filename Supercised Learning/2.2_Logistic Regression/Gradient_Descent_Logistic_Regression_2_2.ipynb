{
  "cells": [
    {
      "cell_type": "markdown",
      "metadata": {
        "id": "jrj1p9saiHcV"
      },
      "source": [
        "# **Gradient Descent - Logistic Regression for Breast Cancer Prediction**"
      ]
    },
    {
      "cell_type": "markdown",
      "metadata": {
        "id": "iJAiSxXziKdy"
      },
      "source": [
        "## **Introduction**"
      ]
    },
    {
      "cell_type": "markdown",
      "metadata": {
        "id": "9uVMXRv9iM0E"
      },
      "source": [
        "Breast cancer is a significant public health concern globally. Early detection of breast cancer can lead to effective treatment and a positive prognosis. Machine learning models, such as logistic regression, can play a crucial role in predicting the likelihood of breast cancer being benign or malignant based on various diagnostic measurements.\n",
        "\n",
        "In this analysis, we will apply gradient descent logistic regression to the Breast Cancer Wisconsin (Diagnostic) dataset. This dataset contains features computed from a digitized image of a fine needle aspirate (FNA) of a breast mass, describing characteristics of the cell nuclei present in the image."
      ]
    },
    {
      "cell_type": "markdown",
      "metadata": {
        "id": "5l7ImV95iWku"
      },
      "source": [
        "## **Algorithm**"
      ]
    },
    {
      "cell_type": "markdown",
      "metadata": {
        "id": "RVKIk65mjO9f"
      },
      "source": [
        "### Gradient Descent Logistic Regression\n",
        "\n",
        "Gradient descent logistic regression is a robust optimization algorithm designed for binary classification tasks. It's particularly adept at predicting categorical outcomes such as diagnosing whether a breast tumor is benign (B) or malignant (M). This method hinges on iteratively refining the model's parameters to shrink the discrepancy between the predicted probabilities and actual classifications. Below, we detail the algorithmic steps applied to the analysis of the Breast Cancer Wisconsin (Diagnostic) dataset.\n",
        "\n",
        "1. **Model Definition**: The probability of a tumor being malignant, given its features, is modeled using the logistic function:\n",
        "\n",
        "   $$ P(Y=1|X) = 1 / (1 + exp(-(b_0 + sum(b_i * X_i)))) $$\n",
        "Here, P(Y=1|X) is the probability of the tumor being malignant, b_0 is the intercept, b_i are the coefficients for each feature X_i, and the summation is done over all features.\n",
        "\n",
        "2. **Cost Function**: The cost function, also known as binary cross-entropy loss or log loss, measures the performance of the model:\n",
        "\n",
        "   $$ J(b_0, b_i) = -1/m * sum([y^(i) * log(P(y^(i)|x^(i))) + (1 - y^(i)) * log(1 - P(y^(i)|x^(i)))]) $$\n",
        "In this formula, m is the total number of observations, y^(i) is the actual outcome, and P(y^(i)|x^(i)) is the predicted probability for the i-th instance.\n",
        "\n",
        "3. **Gradient Descent**: The algorithm updates the parameters b_0 and b_i to minimize the cost function, using the learning rate alpha:\n",
        "\n",
        "   $$ b_0 := b_0 - alpha * dJ/db_0 $$\n",
        "   $$ b_i := b_i - alpha * dJ/db_i $$\n",
        "\n",
        "4. **Partial Derivatives**: The gradients of the cost function with respect to the parameters are calculated as follows:\n",
        "\n",
        "   $$ dJ/db_0 = 1/m * sum(P(y^(i)|x^(i)) - y^(i)) $$\n",
        "   $$ dJ/db_i = 1/m * sum((P(y^(i)|x^(i)) - y^(i)) * x_i^(i)) $$\n",
        "\n",
        "By applying these steps, the gradient descent logistic regression algorithm efficiently predicts the likelihood of breast tumors being benign or malignant, significantly aiding early cancer detection and treatment planning.\n"
      ]
    },
    {
      "cell_type": "markdown",
      "metadata": {
        "id": "bYaQknn-jch0"
      },
      "source": [
        "## **Implementation**"
      ]
    },
    {
      "cell_type": "markdown",
      "metadata": {},
      "source": [
        "In this analysis, we apply the Gradient Descent Logistic Regression model to the Breast Cancer Wisconsin (Diagnostic) dataset. Our goal is to determine the potential of logistic regression in predicting whether a tumor is benign or malignant, thereby helping in the early detection and treatment of breast cancer."
      ]
    },
    {
      "cell_type": "markdown",
      "metadata": {},
      "source": [
        "### Loading Dataset"
      ]
    },
    {
      "cell_type": "markdown",
      "metadata": {},
      "source": [
        "We use pandas to load the Breast Cancer Wisconsin (Diagnostic) dataset. The dataset contains features such as radius_mean, texture_mean, and perimeter_mean that describe the characteristics of the cell nuclei."
      ]
    },
    {
      "cell_type": "code",
      "execution_count": 1,
      "metadata": {},
      "outputs": [
        {
          "data": {
            "text/html": [
              "<div>\n",
              "<style scoped>\n",
              "    .dataframe tbody tr th:only-of-type {\n",
              "        vertical-align: middle;\n",
              "    }\n",
              "\n",
              "    .dataframe tbody tr th {\n",
              "        vertical-align: top;\n",
              "    }\n",
              "\n",
              "    .dataframe thead th {\n",
              "        text-align: right;\n",
              "    }\n",
              "</style>\n",
              "<table border=\"1\" class=\"dataframe\">\n",
              "  <thead>\n",
              "    <tr style=\"text-align: right;\">\n",
              "      <th></th>\n",
              "      <th>id</th>\n",
              "      <th>diagnosis</th>\n",
              "      <th>radius_mean</th>\n",
              "      <th>texture_mean</th>\n",
              "      <th>perimeter_mean</th>\n",
              "      <th>area_mean</th>\n",
              "      <th>smoothness_mean</th>\n",
              "      <th>compactness_mean</th>\n",
              "      <th>concavity_mean</th>\n",
              "      <th>concave points_mean</th>\n",
              "      <th>...</th>\n",
              "      <th>texture_worst</th>\n",
              "      <th>perimeter_worst</th>\n",
              "      <th>area_worst</th>\n",
              "      <th>smoothness_worst</th>\n",
              "      <th>compactness_worst</th>\n",
              "      <th>concavity_worst</th>\n",
              "      <th>concave points_worst</th>\n",
              "      <th>symmetry_worst</th>\n",
              "      <th>fractal_dimension_worst</th>\n",
              "      <th>Unnamed: 32</th>\n",
              "    </tr>\n",
              "  </thead>\n",
              "  <tbody>\n",
              "    <tr>\n",
              "      <th>0</th>\n",
              "      <td>842302</td>\n",
              "      <td>M</td>\n",
              "      <td>17.99</td>\n",
              "      <td>10.38</td>\n",
              "      <td>122.80</td>\n",
              "      <td>1001.0</td>\n",
              "      <td>0.11840</td>\n",
              "      <td>0.27760</td>\n",
              "      <td>0.3001</td>\n",
              "      <td>0.14710</td>\n",
              "      <td>...</td>\n",
              "      <td>17.33</td>\n",
              "      <td>184.60</td>\n",
              "      <td>2019.0</td>\n",
              "      <td>0.1622</td>\n",
              "      <td>0.6656</td>\n",
              "      <td>0.7119</td>\n",
              "      <td>0.2654</td>\n",
              "      <td>0.4601</td>\n",
              "      <td>0.11890</td>\n",
              "      <td>NaN</td>\n",
              "    </tr>\n",
              "    <tr>\n",
              "      <th>1</th>\n",
              "      <td>842517</td>\n",
              "      <td>M</td>\n",
              "      <td>20.57</td>\n",
              "      <td>17.77</td>\n",
              "      <td>132.90</td>\n",
              "      <td>1326.0</td>\n",
              "      <td>0.08474</td>\n",
              "      <td>0.07864</td>\n",
              "      <td>0.0869</td>\n",
              "      <td>0.07017</td>\n",
              "      <td>...</td>\n",
              "      <td>23.41</td>\n",
              "      <td>158.80</td>\n",
              "      <td>1956.0</td>\n",
              "      <td>0.1238</td>\n",
              "      <td>0.1866</td>\n",
              "      <td>0.2416</td>\n",
              "      <td>0.1860</td>\n",
              "      <td>0.2750</td>\n",
              "      <td>0.08902</td>\n",
              "      <td>NaN</td>\n",
              "    </tr>\n",
              "    <tr>\n",
              "      <th>2</th>\n",
              "      <td>84300903</td>\n",
              "      <td>M</td>\n",
              "      <td>19.69</td>\n",
              "      <td>21.25</td>\n",
              "      <td>130.00</td>\n",
              "      <td>1203.0</td>\n",
              "      <td>0.10960</td>\n",
              "      <td>0.15990</td>\n",
              "      <td>0.1974</td>\n",
              "      <td>0.12790</td>\n",
              "      <td>...</td>\n",
              "      <td>25.53</td>\n",
              "      <td>152.50</td>\n",
              "      <td>1709.0</td>\n",
              "      <td>0.1444</td>\n",
              "      <td>0.4245</td>\n",
              "      <td>0.4504</td>\n",
              "      <td>0.2430</td>\n",
              "      <td>0.3613</td>\n",
              "      <td>0.08758</td>\n",
              "      <td>NaN</td>\n",
              "    </tr>\n",
              "    <tr>\n",
              "      <th>3</th>\n",
              "      <td>84348301</td>\n",
              "      <td>M</td>\n",
              "      <td>11.42</td>\n",
              "      <td>20.38</td>\n",
              "      <td>77.58</td>\n",
              "      <td>386.1</td>\n",
              "      <td>0.14250</td>\n",
              "      <td>0.28390</td>\n",
              "      <td>0.2414</td>\n",
              "      <td>0.10520</td>\n",
              "      <td>...</td>\n",
              "      <td>26.50</td>\n",
              "      <td>98.87</td>\n",
              "      <td>567.7</td>\n",
              "      <td>0.2098</td>\n",
              "      <td>0.8663</td>\n",
              "      <td>0.6869</td>\n",
              "      <td>0.2575</td>\n",
              "      <td>0.6638</td>\n",
              "      <td>0.17300</td>\n",
              "      <td>NaN</td>\n",
              "    </tr>\n",
              "    <tr>\n",
              "      <th>4</th>\n",
              "      <td>84358402</td>\n",
              "      <td>M</td>\n",
              "      <td>20.29</td>\n",
              "      <td>14.34</td>\n",
              "      <td>135.10</td>\n",
              "      <td>1297.0</td>\n",
              "      <td>0.10030</td>\n",
              "      <td>0.13280</td>\n",
              "      <td>0.1980</td>\n",
              "      <td>0.10430</td>\n",
              "      <td>...</td>\n",
              "      <td>16.67</td>\n",
              "      <td>152.20</td>\n",
              "      <td>1575.0</td>\n",
              "      <td>0.1374</td>\n",
              "      <td>0.2050</td>\n",
              "      <td>0.4000</td>\n",
              "      <td>0.1625</td>\n",
              "      <td>0.2364</td>\n",
              "      <td>0.07678</td>\n",
              "      <td>NaN</td>\n",
              "    </tr>\n",
              "  </tbody>\n",
              "</table>\n",
              "<p>5 rows × 33 columns</p>\n",
              "</div>"
            ],
            "text/plain": [
              "         id diagnosis  radius_mean  texture_mean  perimeter_mean  area_mean  \\\n",
              "0    842302         M        17.99         10.38          122.80     1001.0   \n",
              "1    842517         M        20.57         17.77          132.90     1326.0   \n",
              "2  84300903         M        19.69         21.25          130.00     1203.0   \n",
              "3  84348301         M        11.42         20.38           77.58      386.1   \n",
              "4  84358402         M        20.29         14.34          135.10     1297.0   \n",
              "\n",
              "   smoothness_mean  compactness_mean  concavity_mean  concave points_mean  \\\n",
              "0          0.11840           0.27760          0.3001              0.14710   \n",
              "1          0.08474           0.07864          0.0869              0.07017   \n",
              "2          0.10960           0.15990          0.1974              0.12790   \n",
              "3          0.14250           0.28390          0.2414              0.10520   \n",
              "4          0.10030           0.13280          0.1980              0.10430   \n",
              "\n",
              "   ...  texture_worst  perimeter_worst  area_worst  smoothness_worst  \\\n",
              "0  ...          17.33           184.60      2019.0            0.1622   \n",
              "1  ...          23.41           158.80      1956.0            0.1238   \n",
              "2  ...          25.53           152.50      1709.0            0.1444   \n",
              "3  ...          26.50            98.87       567.7            0.2098   \n",
              "4  ...          16.67           152.20      1575.0            0.1374   \n",
              "\n",
              "   compactness_worst  concavity_worst  concave points_worst  symmetry_worst  \\\n",
              "0             0.6656           0.7119                0.2654          0.4601   \n",
              "1             0.1866           0.2416                0.1860          0.2750   \n",
              "2             0.4245           0.4504                0.2430          0.3613   \n",
              "3             0.8663           0.6869                0.2575          0.6638   \n",
              "4             0.2050           0.4000                0.1625          0.2364   \n",
              "\n",
              "   fractal_dimension_worst  Unnamed: 32  \n",
              "0                  0.11890          NaN  \n",
              "1                  0.08902          NaN  \n",
              "2                  0.08758          NaN  \n",
              "3                  0.17300          NaN  \n",
              "4                  0.07678          NaN  \n",
              "\n",
              "[5 rows x 33 columns]"
            ]
          },
          "execution_count": 1,
          "metadata": {},
          "output_type": "execute_result"
        }
      ],
      "source": [
        "import pandas as pd\n",
        "from sklearn.model_selection import train_test_split\n",
        "from sklearn.preprocessing import StandardScaler\n",
        "from sklearn.linear_model import LogisticRegression\n",
        "from sklearn.metrics import classification_report, confusion_matrix, accuracy_score, f1_score\n",
        "import matplotlib.pyplot as plt\n",
        "import seaborn as sns\n",
        "\n",
        "# Load dataset\n",
        "df = pd.read_csv('cancer_data.csv')\n",
        "df.head(5)\n"
      ]
    },
    {
      "cell_type": "markdown",
      "metadata": {},
      "source": [
        "### Data Preprocessing"
      ]
    },
    {
      "cell_type": "markdown",
      "metadata": {},
      "source": [
        "Before applying logistic regression, we preprocess the data:"
      ]
    },
    {
      "cell_type": "code",
      "execution_count": 4,
      "metadata": {},
      "outputs": [
        {
          "name": "stdout",
          "output_type": "stream",
          "text": [
            "Accuracy: 0.97\n",
            "F1 Score: 0.96\n"
          ]
        },
        {
          "data": {
            "image/png": "[encoded data removed]",
            "text/plain": [
              "<Figure size 640x480 with 2 Axes>"
            ]
          },
          "metadata": {},
          "output_type": "display_data"
        },
        {
          "name": "stdout",
          "output_type": "stream",
          "text": [
            "The logistic regression model's performance in predicting the malignancy of breast tumors is assessed through accuracy and F1 scores, with a detailed analysis provided by the confusion matrix. This model, by classifying tumors accurately, can significantly contribute to the early detection and successful treatment of breast cancer.\n",
            "Further improvements in the model's performance might be explored through more advanced feature selection, model tuning, and the application of more complex machine learning algorithms.\n"
          ]
        }
      ],
      "source": [
        "# Importing necessary libraries\n",
        "import pandas as pd\n",
        "from sklearn.model_selection import train_test_split\n",
        "from sklearn.preprocessing import StandardScaler\n",
        "from sklearn.linear_model import LogisticRegression\n",
        "from sklearn.metrics import accuracy_score, f1_score, confusion_matrix\n",
        "import matplotlib.pyplot as plt\n",
        "import seaborn as sns\n",
        "\n",
        "# Load dataset\n",
        "df = pd.read_csv('cancer_data.csv')\n",
        "\n",
        "# Data Preprocessing\n",
        "# Correcting the column name based on the actual column name in the dataset\n",
        "df['diagnosis'] = df['diagnosis'].apply(lambda x: 1 if x == 'M' else 0)\n",
        "\n",
        "# Selecting features and target, dropping 'id' and 'Unnamed: 32' as they are not useful for analysis\n",
        "X = df.drop(['id', 'diagnosis', 'Unnamed: 32'], axis=1)\n",
        "y = df['diagnosis']\n",
        "\n",
        "# Splitting the data into training and test sets\n",
        "X_train, X_test, y_train, y_test = train_test_split(X, y, test_size=0.2, random_state=42)\n",
        "\n",
        "# Standardizing features\n",
        "scaler = StandardScaler()\n",
        "X_train = scaler.fit_transform(X_train)\n",
        "X_test = scaler.transform(X_test)\n",
        "\n",
        "# Implementing Gradient Descent for Logistic Regression\n",
        "# Initialize and train logistic regression model\n",
        "model = LogisticRegression(solver='liblinear', random_state=42)  # 'liblinear' solver is recommended for small datasets\n",
        "model.fit(X_train, y_train)\n",
        "\n",
        "# Making predictions\n",
        "y_pred = model.predict(X_test)\n",
        "\n",
        "# Model Evaluation\n",
        "# Calculating accuracy\n",
        "print(f'Accuracy: {accuracy_score(y_test, y_pred):.2f}')\n",
        "\n",
        "# Calculating F1 Score\n",
        "print(f'F1 Score: {f1_score(y_test, y_pred):.2f}')\n",
        "\n",
        "# Generating and visualizing the confusion matrix\n",
        "conf_mat = confusion_matrix(y_test, y_pred)\n",
        "sns.heatmap(conf_mat, annot=True, fmt='d', cmap='Blues')\n",
        "plt.xlabel('Predicted')\n",
        "plt.ylabel('True')\n",
        "plt.title('Confusion Matrix')\n",
        "plt.show()\n",
        "\n",
        "# Conclusion\n",
        "print(\"The logistic regression model's performance in predicting the malignancy of breast tumors is assessed through accuracy and F1 scores, with a detailed analysis provided by the confusion matrix. This model, by classifying tumors accurately, can significantly contribute to the early detection and successful treatment of breast cancer.\")\n",
        "\n",
        "print(\"Further improvements in the model's performance might be explored through more advanced feature selection, model tuning, and the application of more complex machine learning algorithms.\")\n",
        "\n"
      ]
    },
    {
      "cell_type": "markdown",
      "metadata": {},
      "source": [
        "The output I've received indicates an excellent performance of the logistic regression model. An accuracy of 0.97 means that 97% of the predictions made by the model are correct, and an F1 score of 0.96 suggests a very high balance between precision and recall, particularly for the positive class, which in this case is 'malignant' tumors. These metrics, along with the confusion matrix visualization I provided, confirm that the logistic regression model is highly effective in classifying the malignancy of breast tumors.\n"
      ]
    },
    {
      "cell_type": "markdown",
      "metadata": {},
      "source": [
        "### Preprocessing"
      ]
    },
    {
      "cell_type": "markdown",
      "metadata": {},
      "source": [
        "The dataset preprocessing includes encoding the 'Diagnosis' column into a binary format where 'M' (malignant) is represented as 1 and 'B' (benign) as 0. This is an essential step because it transforms categorical data into a format that can be provided to machine learning algorithms to do a proper prediction task. Moreover, standardizing the features (scaling) ensures that the logistic regression model weights each feature equally, particularly important when features vary in units or scale."
      ]
    },
    {
      "cell_type": "markdown",
      "metadata": {},
      "source": [
        "### Training the Model"
      ]
    },
    {
      "cell_type": "markdown",
      "metadata": {},
      "source": [
        "By splitting the data into a training set and a testing set, we are following a standard practice in machine learning to evaluate the performance of our model on unseen data, which simulates how the model would perform in real-world applications. The gradient descent algorithm is then used for training the logistic regression model. It iteratively adjusts the model's weights to minimize the cost function, a measure of how well the model is performing."
      ]
    },
    {
      "cell_type": "markdown",
      "metadata": {},
      "source": [
        "### Model Evaluation"
      ]
    },
    {
      "cell_type": "markdown",
      "metadata": {},
      "source": [
        "The model evaluation extends beyond accuracy to include precision (the proportion of true positives out of all positive predictions) and recall (the proportion of true positives out of all actual positives), which are crucial in the medical field. For example, a high recall rate would mean that the model is successful in identifying most malignant tumors, which is vital for early intervention. The F1 score combines these two metrics into a single measure to summarize model performance, and a high F1 score indicates that both precision and recall are high."
      ]
    },
    {
      "cell_type": "markdown",
      "metadata": {},
      "source": [
        "## **Conclusion**"
      ]
    },
    {
      "cell_type": "markdown",
      "metadata": {},
      "source": [
        "The application of gradient descent logistic regression to the Breast Cancer Wisconsin (Diagnostic) dataset highlights the value of machine learning in medical diagnostics. This model's ability to accurately predict tumor malignancy can significantly contribute to early detection and personalized treatment planning, potentially improving patient outcomes. Future improvements may include advanced feature selection techniques to identify the most predictive features, tuning model hyperparameters to optimize performance, and exploring more sophisticated modeling techniques that may capture complex patterns in the data more effectively.\n",
        "\n",
        "Each step in this analysis, from preprocessing to model training and evaluation, underpins the importance of machine learning in healthcare. By leveraging powerful data science tools in Python, such as pandas, scikit-learn, and seaborn, valuable insights can be gained, which can translate into impactful clinical applications."
      ]
    }
  ],
  "metadata": {
    "colab": {
      "provenance": []
    },
    "kernelspec": {
      "display_name": "Python 3",
      "name": "python3"
    },
    "language_info": {
      "codemirror_mode": {
        "name": "ipython",
        "version": 3
      },
      "file_extension": ".py",
      "mimetype": "text/x-python",
      "name": "python",
      "nbconvert_exporter": "python",
      "pygments_lexer": "ipython3",
      "version": "3.11.5"
    }
  },
  "nbformat": 4,
  "nbformat_minor": 0
}
